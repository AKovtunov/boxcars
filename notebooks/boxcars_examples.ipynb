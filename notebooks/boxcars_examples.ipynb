{
 "cells": [
  {
   "cell_type": "markdown",
   "id": "d17175a1-0f75-400b-a15f-e30975e40b80",
   "metadata": {},
   "source": [
    "# Boxcars Gem Notebook\n",
    "Below you will find some sample boxcar gem code fragments."
   ]
  },
  {
   "cell_type": "markdown",
   "id": "8c865805-1b6f-43fe-bb19-2c1597600b5c",
   "metadata": {},
   "source": [
    "## Env Setup\n",
    "Before we get started, install the gems we need here:\n",
    "```bash\n",
    "gem install boxcars dotenv\n",
    "```\n",
    "and then create / edit .env to have SERPAPI_API_KEY and OPENAI_ACCESS_TOKEN"
   ]
  },
  {
   "cell_type": "code",
   "execution_count": 1,
   "id": "1c4eb913-1e15-49a9-9b35-d4e21e5adfef",
   "metadata": {},
   "outputs": [
    {
     "data": {
      "text/plain": [
       "true"
      ]
     },
     "execution_count": 1,
     "metadata": {},
     "output_type": "execute_result"
    }
   ],
   "source": [
    "# setup for code below\n",
    "require \"dotenv/load\"\n",
    "require \"boxcars\""
   ]
  },
  {
   "cell_type": "markdown",
   "id": "13f664dd-1403-4a12-a6c7-d8a18287ce47",
   "metadata": {},
   "source": [
    "## Examples\n",
    "Here are several examples of using the boxcar gems. First we will start with individual Boxcars, and then we will move on to using Trains."
   ]
  },
  {
   "cell_type": "markdown",
   "id": "cc4ee1c4-705a-4c24-a42d-d821766be078",
   "metadata": {},
   "source": [
    "### Search using the Google Serp API (set SERPAPI_API_KEY in .env)"
   ]
  },
  {
   "cell_type": "code",
   "execution_count": 3,
   "id": "9915ff7c-dc15-4174-b92e-9e1dd317c0b6",
   "metadata": {},
   "outputs": [
    {
     "name": "stdout",
     "output_type": "stream",
     "text": [
      "Question: what temperature is it in Phoenix?\n",
      "Answer: High 64F\n"
     ]
    },
    {
     "data": {
      "text/plain": [
       "\"High 64F\""
      ]
     },
     "execution_count": 3,
     "metadata": {},
     "output_type": "execute_result"
    }
   ],
   "source": [
    "# showcase Google Serp search\n",
    "s = Boxcars::GoogleSearch.new\n",
    "s.run(\"what temperature is it in Phoenix?\")"
   ]
  },
  {
   "cell_type": "markdown",
   "id": "7e5c71bb-57e0-4a43-81e1-cd93e28067e9",
   "metadata": {},
   "source": [
    "### Calculator that uses ruby for hard math"
   ]
  },
  {
   "cell_type": "code",
   "execution_count": 2,
   "id": "4d7207f4-7c7b-48fd-bc3c-391e80969fdc",
   "metadata": {},
   "outputs": [
    {
     "name": "stdout",
     "output_type": "stream",
     "text": [
      "\u001b[1;30m> Entering Calculator#run\u001b[0m\n",
      "\u001b[0;34mwhat is pi to the third power times epsilon?\u001b[0m\n",
      "\u001b[0;31mRubyREPL: puts(Math::PI ** 3 * Math::E)\u001b[0m\n",
      "\u001b[1;31mAnswer: 84.28379846823243\n",
      "\u001b[0m\n",
      "\u001b[0;35m84.28379846823243\u001b[0m\n",
      "\u001b[1;30m< Exiting Calculator#run\u001b[0m\n"
     ]
    },
    {
     "data": {
      "text/plain": [
       "\"84.28379846823243\""
      ]
     },
     "execution_count": 2,
     "metadata": {},
     "output_type": "execute_result"
    }
   ],
   "source": [
    "c = Boxcars::Calculator.new\n",
    "c.run(\"what is pi to the third power times epsilon?\")"
   ]
  },
  {
   "cell_type": "markdown",
   "id": "0f526d81-b934-474a-bf88-15b31ab34d6e",
   "metadata": {},
   "source": [
    "### Active Record Example using SQL code generation"
   ]
  },
  {
   "cell_type": "code",
   "execution_count": 3,
   "id": "80d3355f-e118-4daa-be10-c752c6c3504b",
   "metadata": {},
   "outputs": [
    {
     "name": "stdout",
     "output_type": "stream",
     "text": [
      "-- create_table(\"users\", {:force=>:cascade})\n",
      "   -> 0.0083s\n",
      "-- create_table(\"comments\", {:force=>:cascade})\n",
      "   -> 0.0004s\n",
      "-- create_table(\"tickets\", {:force=>:cascade})\n",
      "   -> 0.0005s\n"
     ]
    },
    {
     "data": {
      "text/plain": [
       "true"
      ]
     },
     "execution_count": 3,
     "metadata": {},
     "output_type": "execute_result"
    }
   ],
   "source": [
    "# first stub out an in memory sqlite3 and a simple helpdesk example\n",
    "require 'active_record'\n",
    "require './helpdesk_sample'"
   ]
  },
  {
   "cell_type": "code",
   "execution_count": 5,
   "id": "ba8ffd6c-5826-4a52-8082-50308709291a",
   "metadata": {},
   "outputs": [
    {
     "name": "stdout",
     "output_type": "stream",
     "text": [
      "\u001b[1;30m> Entering data#run\u001b[0m\n",
      "\u001b[0;34mhow many open tickets for John?\u001b[0m\n",
      "\u001b[0;33mSELECT COUNT(*) FROM tickets WHERE user_id = (SELECT id FROM users WHERE name = 'John') AND status = 0;\u001b[0m\n",
      "Answer: [{\"COUNT(*)\"=>1}]\n",
      "\u001b[0;35mAnswer: [{\"COUNT(*)\"=>1}]\u001b[0m\n",
      "\u001b[1;30m< Exiting data#run\u001b[0m\n"
     ]
    },
    {
     "data": {
      "text/plain": [
       "\"Answer: [{\\\"COUNT(*)\\\"=>1}]\""
      ]
     },
     "execution_count": 5,
     "metadata": {},
     "output_type": "execute_result"
    }
   ],
   "source": [
    "# get the answer\n",
    "boxcar = Boxcars::SQL.new\n",
    "boxcar.run(\"how many open tickets for John?\")"
   ]
  },
  {
   "cell_type": "code",
   "execution_count": 6,
   "id": "e3d8c377-212c-4c4d-a644-989ed321bb13",
   "metadata": {},
   "outputs": [
    {
     "name": "stdout",
     "output_type": "stream",
     "text": [
      "\u001b[1;30m> Entering data#run\u001b[0m\n",
      "\u001b[0;34mhow many comments do we have on closed tickets?\u001b[0m\n",
      "\u001b[0;33mSELECT COUNT(*) FROM comments INNER JOIN tickets ON comments.ticket_id = tickets.id WHERE tickets.status = 0;\u001b[0m\n",
      "Answer: [{\"COUNT(*)\"=>4}]\n",
      "\u001b[0;35mAnswer: [{\"COUNT(*)\"=>4}]\u001b[0m\n",
      "\u001b[1;30m< Exiting data#run\u001b[0m\n"
     ]
    },
    {
     "data": {
      "text/plain": [
       "\"Answer: [{\\\"COUNT(*)\\\"=>4}]\""
      ]
     },
     "execution_count": 6,
     "metadata": {},
     "output_type": "execute_result"
    }
   ],
   "source": [
    "boxcar.run(\"how many comments do we have on closed tickets?\")"
   ]
  },
  {
   "cell_type": "markdown",
   "id": "02681ecc-0ab6-4fbb-bac8-ac47c5b0e38c",
   "metadata": {},
   "source": [
    "### Active Record Example using ActiveRecord code generation"
   ]
  },
  {
   "cell_type": "code",
   "execution_count": 8,
   "id": "3cf3bc0f-fc9b-4dfa-b88b-0b140236f105",
   "metadata": {},
   "outputs": [
    {
     "name": "stdout",
     "output_type": "stream",
     "text": [
      "\u001b[1;30m> Entering helpdesk#run\u001b[0m\n",
      "\u001b[0;34mhow many comments do we have on open tickets?\u001b[0m\n",
      "\u001b[0;33mTicket.where(status: 0).joins(:comments).count\u001b[0m\n",
      "\u001b[0;35mAnswer: 4\u001b[0m\n",
      "\u001b[1;30m< Exiting helpdesk#run\u001b[0m\n"
     ]
    },
    {
     "data": {
      "text/plain": [
       "\"Answer: 4\""
      ]
     },
     "execution_count": 8,
     "metadata": {},
     "output_type": "execute_result"
    }
   ],
   "source": [
    "helpdesk = Boxcars::ActiveRecord.new(name: 'helpdesk', models: [Ticket, User, Comment])\n",
    "helpdesk.run(\"how many comments do we have on open tickets?\")"
   ]
  },
  {
   "cell_type": "markdown",
   "id": "31ca9cc6-8607-4600-aed1-a46d1b863722",
   "metadata": {},
   "source": [
    "## Putting it all together - Trains\n",
    "Trains uses a series of Boxcars to compute an answer by composing answers from the union of queries to individual boxcars as needed.\n",
    "### a one car train\n",
    "This is similar to just running Boxcar.run"
   ]
  },
  {
   "cell_type": "code",
   "execution_count": 9,
   "id": "ee6089de-907e-49fb-8889-fcefce851545",
   "metadata": {},
   "outputs": [
    {
     "name": "stdout",
     "output_type": "stream",
     "text": [
      "\u001b[1;30m> Entering Zero Shot#run\u001b[0m\n",
      "\u001b[0;34mwhat is pi squared?\u001b[0m\n",
      "\u001b[1;30m> Entering Calculator#run\u001b[0m\n",
      "\u001b[0;34mpi squared\u001b[0m\n",
      "\u001b[0;35mAnswer: 9.869604401089358\u001b[0m\n",
      "\u001b[1;30m< Exiting Calculator#run\u001b[0m\n",
      "\u001b[0;32mObservation: Answer: 9.869604401089358\u001b[0m\n",
      "\u001b[0;33mI now know the final answer.\n",
      "Final Answer: 9.869604401089358\u001b[0m\n",
      "\u001b[1;30m< Exiting Zero Shot#run\u001b[0m\n"
     ]
    },
    {
     "data": {
      "text/plain": [
       "\"9.869604401089358\""
      ]
     },
     "execution_count": 9,
     "metadata": {},
     "output_type": "execute_result"
    }
   ],
   "source": [
    "c = Boxcars::Calculator.new\n",
    "train = Boxcars.train.new(boxcars: [c])\n",
    "train.run \"what is pi squared?\""
   ]
  },
  {
   "cell_type": "markdown",
   "id": "0ebacfc7-7f9d-487b-832c-f5b787b10efd",
   "metadata": {},
   "source": [
    "### a two car train\n",
    "Here we have a HelpDesk ActiveRecord database and a calculator at our disposal to get an answer"
   ]
  },
  {
   "cell_type": "code",
   "execution_count": 21,
   "id": "418b7344-6612-4911-91a1-1585458a687f",
   "metadata": {},
   "outputs": [
    {
     "name": "stdout",
     "output_type": "stream",
     "text": [
      "\u001b[1;30m> Entering Zero Shot#run\u001b[0m\n",
      "\u001b[0;34mthe number of helpdesk comments by John for open tickets times 2 pi?\u001b[0m\n",
      "\u001b[1;30m> Entering helpdesk#run\u001b[0m\n",
      "\u001b[0;34mFind the number of helpdesk comments by John for open tickets\u001b[0m\n",
      "\u001b[0;33mComment.where(user_id: User.where(name: 'John'), ticket_id: Ticket.where(status: 0)).count\u001b[0m\n",
      "\u001b[0;35mAnswer: 2\u001b[0m\n",
      "\u001b[1;30m< Exiting helpdesk#run\u001b[0m\n",
      "\u001b[0;32mObservation: Answer: 2\u001b[0m\n",
      "\u001b[1;30m> Entering Calculator#run\u001b[0m\n",
      "\u001b[0;34m2 * 2pi\u001b[0m\n",
      "\u001b[0;31mRubyREPL: puts(2 * 2 * Math::PI)\u001b[0m\n",
      "\u001b[1;31mAnswer: 12.566370614359172\n",
      "\u001b[0m\n",
      "\u001b[0;35m12.566370614359172\u001b[0m\n",
      "\u001b[1;30m< Exiting Calculator#run\u001b[0m\n",
      "\u001b[0;32mObservation: 12.566370614359172\u001b[0m\n",
      "\u001b[0;33mI now know the final answer\n",
      "Final Answer: 12.566370614359172\u001b[0m\n",
      "\u001b[1;30m< Exiting Zero Shot#run\u001b[0m\n"
     ]
    },
    {
     "data": {
      "text/plain": [
       "\"12.566370614359172\""
      ]
     },
     "execution_count": 21,
     "metadata": {},
     "output_type": "execute_result"
    }
   ],
   "source": [
    "c = Boxcars::Calculator.new\n",
    "helpdesk = Boxcars::ActiveRecord.new(name: 'helpdesk', models: [Ticket, User, Comment])\n",
    "train = Boxcars.default_train.new(boxcars: [c, helpdesk])\n",
    "train.run \"the number of helpdesk comments by John for open tickets times 2 pi?\""
   ]
  }
 ],
 "metadata": {
  "kernelspec": {
   "display_name": "Ruby 3.0.0",
   "language": "ruby",
   "name": "ruby"
  },
  "language_info": {
   "file_extension": ".rb",
   "mimetype": "application/x-ruby",
   "name": "ruby",
   "version": "3.0.3"
  }
 },
 "nbformat": 4,
 "nbformat_minor": 5
}
